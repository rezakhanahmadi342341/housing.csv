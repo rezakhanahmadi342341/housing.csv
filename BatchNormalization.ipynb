{
  "cells": [
    {
      "cell_type": "markdown",
      "metadata": {
        "id": "view-in-github",
        "colab_type": "text"
      },
      "source": [
        "<a href=\"https://colab.research.google.com/github/rezakhanahmadi342341/housing.csv/blob/main/BatchNormalization.ipynb\" target=\"_parent\"><img src=\"https://colab.research.google.com/assets/colab-badge.svg\" alt=\"Open In Colab\"/></a>"
      ]
    },
    {
      "cell_type": "code",
      "source": [
        "from tensorflow import keras\n",
        "from keras.datasets import mnist\n",
        "import matplotlib.pyplot as plt\n",
        "\n",
        "(x_train,y_train), (x_test,y_test) = mnist.load_data()\n",
        "\n",
        "x_train = x_train.reshape((-1,28,28,1)).astype('float32') / 255\n",
        "x_test = x_test.reshape((-1,28,28,1)).astype('float32') / 255\n",
        "\n",
        "model = keras.Sequential([\n",
        "    #normalization\n",
        "    keras.layers.Conv2D(32,kernel_size=(3,3), input_shape=[28,28,1]),\n",
        "    keras.layers.BatchNormalization(),\n",
        "    keras.layers.Activation('relu'),\n",
        "\n",
        "    keras.layers.Conv2D(32,kernel_size=(3,3)),\n",
        "    keras.layers.BatchNormalization(),\n",
        "    keras.layers.Activation('relu'),\n",
        "\n",
        "\n",
        "    keras.layers.Conv2D(32, kernel_size=(3,3), strides=(1,1), padding='valid',activation='relu',input_shape=(28,28,1)),\n",
        "    keras.layers.MaxPooling2D(pool_size=(2,2)),\n",
        "    keras.layers.Conv2D(32, kernel_size=(3,3), strides=(1,1), padding='valid',activation='relu'),\n",
        "    keras.layers.MaxPooling2D(pool_size=(2,2)),\n",
        "    keras.layers.Flatten(),\n",
        "    keras.layers.Dense(256,activation='relu',  ),\n",
        "    keras.layers.Dense(128,activation='relu',  ),\n",
        "    keras.layers.Dense(10,activation='softmax',)\n",
        "\n",
        "])\n",
        "\n",
        "model.compile(optimizer='adam',loss='sparse_categorical_crossentropy',metrics=['accuracy'])\n",
        "\n",
        "hist = model.fit(x_train,y_train,batch_size=256,epochs=10, validation_data=(x_test,y_test))\n",
        "\n",
        "pre = model.predict(x_test)\n",
        "\n",
        "plt.plot(hist.history['loss'])\n",
        "plt.plot(hist.history['val_loss'])\n",
        "\n"
      ],
      "metadata": {
        "colab": {
          "base_uri": "https://localhost:8080/",
          "height": 884
        },
        "id": "Zm8h3M4DXk7-",
        "outputId": "c50e9469-efe6-48f5-ed5f-66545cb53a4b"
      },
      "execution_count": 145,
      "outputs": [
        {
          "output_type": "stream",
          "name": "stderr",
          "text": [
            "/usr/local/lib/python3.10/dist-packages/keras/src/layers/convolutional/base_conv.py:107: UserWarning: Do not pass an `input_shape`/`input_dim` argument to a layer. When using Sequential models, prefer using an `Input(shape)` object as the first layer in the model instead.\n",
            "  super().__init__(activity_regularizer=activity_regularizer, **kwargs)\n"
          ]
        },
        {
          "output_type": "stream",
          "name": "stdout",
          "text": [
            "Epoch 1/10\n",
            "\u001b[1m235/235\u001b[0m \u001b[32m━━━━━━━━━━━━━━━━━━━━\u001b[0m\u001b[37m\u001b[0m \u001b[1m190s\u001b[0m 796ms/step - accuracy: 0.8757 - loss: 0.4044 - val_accuracy: 0.8801 - val_loss: 1.0143\n",
            "Epoch 2/10\n",
            "\u001b[1m235/235\u001b[0m \u001b[32m━━━━━━━━━━━━━━━━━━━━\u001b[0m\u001b[37m\u001b[0m \u001b[1m195s\u001b[0m 766ms/step - accuracy: 0.9846 - loss: 0.0491 - val_accuracy: 0.9874 - val_loss: 0.0745\n",
            "Epoch 3/10\n",
            "\u001b[1m235/235\u001b[0m \u001b[32m━━━━━━━━━━━━━━━━━━━━\u001b[0m\u001b[37m\u001b[0m \u001b[1m203s\u001b[0m 770ms/step - accuracy: 0.9888 - loss: 0.0359 - val_accuracy: 0.9854 - val_loss: 0.0482\n",
            "Epoch 4/10\n",
            "\u001b[1m235/235\u001b[0m \u001b[32m━━━━━━━━━━━━━━━━━━━━\u001b[0m\u001b[37m\u001b[0m \u001b[1m202s\u001b[0m 771ms/step - accuracy: 0.9914 - loss: 0.0269 - val_accuracy: 0.9908 - val_loss: 0.0321\n",
            "Epoch 5/10\n",
            "\u001b[1m235/235\u001b[0m \u001b[32m━━━━━━━━━━━━━━━━━━━━\u001b[0m\u001b[37m\u001b[0m \u001b[1m181s\u001b[0m 771ms/step - accuracy: 0.9936 - loss: 0.0197 - val_accuracy: 0.9887 - val_loss: 0.0372\n",
            "Epoch 6/10\n",
            "\u001b[1m235/235\u001b[0m \u001b[32m━━━━━━━━━━━━━━━━━━━━\u001b[0m\u001b[37m\u001b[0m \u001b[1m182s\u001b[0m 775ms/step - accuracy: 0.9947 - loss: 0.0171 - val_accuracy: 0.9897 - val_loss: 0.0326\n",
            "Epoch 7/10\n",
            "\u001b[1m235/235\u001b[0m \u001b[32m━━━━━━━━━━━━━━━━━━━━\u001b[0m\u001b[37m\u001b[0m \u001b[1m202s\u001b[0m 773ms/step - accuracy: 0.9959 - loss: 0.0122 - val_accuracy: 0.9930 - val_loss: 0.0239\n",
            "Epoch 8/10\n",
            "\u001b[1m235/235\u001b[0m \u001b[32m━━━━━━━━━━━━━━━━━━━━\u001b[0m\u001b[37m\u001b[0m \u001b[1m201s\u001b[0m 770ms/step - accuracy: 0.9956 - loss: 0.0131 - val_accuracy: 0.9892 - val_loss: 0.0373\n",
            "Epoch 9/10\n",
            "\u001b[1m235/235\u001b[0m \u001b[32m━━━━━━━━━━━━━━━━━━━━\u001b[0m\u001b[37m\u001b[0m \u001b[1m178s\u001b[0m 759ms/step - accuracy: 0.9964 - loss: 0.0104 - val_accuracy: 0.9868 - val_loss: 0.0439\n",
            "Epoch 10/10\n",
            "\u001b[1m235/235\u001b[0m \u001b[32m━━━━━━━━━━━━━━━━━━━━\u001b[0m\u001b[37m\u001b[0m \u001b[1m179s\u001b[0m 761ms/step - accuracy: 0.9964 - loss: 0.0100 - val_accuracy: 0.9923 - val_loss: 0.0303\n",
            "\u001b[1m313/313\u001b[0m \u001b[32m━━━━━━━━━━━━━━━━━━━━\u001b[0m\u001b[37m\u001b[0m \u001b[1m8s\u001b[0m 24ms/step\n"
          ]
        },
        {
          "output_type": "execute_result",
          "data": {
            "text/plain": [
              "[<matplotlib.lines.Line2D at 0x7e043ac617b0>]"
            ]
          },
          "metadata": {},
          "execution_count": 145
        },
        {
          "output_type": "display_data",
          "data": {
            "text/plain": [
              "<Figure size 640x480 with 1 Axes>"
            ],
            "image/png": "[encoded data removed]"
          },
          "metadata": {}
        }
      ]
    },
    {
      "cell_type": "code",
      "source": [],
      "metadata": {
        "id": "Hp0UfKsO03wR"
      },
      "execution_count": null,
      "outputs": []
    }
  ],
  "metadata": {
    "accelerator": "TPU",
    "colab": {
      "gpuType": "V28",
      "provenance": [],
      "authorship_tag": "ABX9TyP/WanPNEN/ezkLgDTs+Ul5",
      "include_colab_link": true
    },
    "kernelspec": {
      "display_name": "Python 3",
      "name": "python3"
    },
    "language_info": {
      "name": "python"
    }
  },
  "nbformat": 4,
  "nbformat_minor": 0
}